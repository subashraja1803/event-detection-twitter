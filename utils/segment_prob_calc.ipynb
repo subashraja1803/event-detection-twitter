{
 "cells": [
  {
   "cell_type": "code",
   "execution_count": null,
   "metadata": {},
   "outputs": [],
   "source": [
    "import json\n",
    "import os\n",
    "import sys\n",
    "sys.path.append('../')\n",
    "\n",
    "from TweetSegmenter import WikiTweetSegmenter"
   ]
  },
  {
   "cell_type": "code",
   "execution_count": null,
   "metadata": {},
   "outputs": [],
   "source": [
    "tweet_dir = '../../data/cleaned_tweets/without_retweets/' # end with '/'\n",
    "seg_prob_file = '../../data/seg_prob_2012_Oct_11-22.json'"
   ]
  },
  {
   "cell_type": "code",
   "execution_count": null,
   "metadata": {},
   "outputs": [],
   "source": [
    "tw_seg = WikiTweetSegmenter(wiki_titles_file='../../data/enwiki-titles-unstemmed.txt', hashtag_wt=1, entities_only=False)"
   ]
  },
  {
   "cell_type": "code",
   "execution_count": null,
   "metadata": {
    "scrolled": true
   },
   "outputs": [],
   "source": [
    "seg_freq = {}\n",
    "total_segs = 0\n",
    "\n",
    "for dir_path, sub_dir_list, file_list in os.walk(tweet_dir):\n",
    "    dir_path = dir_path.replace('\\\\','/') # make windows-like path to unix-like path which can be used for both\n",
    "    dir_name = dir_path.replace(tweet_dir,'') \n",
    "    print('Found directory: %s' % dir_name)\n",
    "    for fname in file_list:\n",
    "        print('\\t', fname)\n",
    "        with open(dir_path + '/' + fname,'r') as f:\n",
    "            for line in f:\n",
    "                line = line.replace('\\n','')\n",
    "                if line=='': break\n",
    "\n",
    "                json_tweet = json.loads(line)\n",
    "                segmentation = tw_seg.tweet_segmentation(json_tweet)\n",
    "                total_segs += len(segmentation)\n",
    "                for seg in segmentation:\n",
    "                    seg_freq[seg] = seg_freq.get(seg,0) + 1\n",
    "\n",
    "print('Done')"
   ]
  },
  {
   "cell_type": "code",
   "execution_count": null,
   "metadata": {},
   "outputs": [],
   "source": [
    "print('Total Segments:',total_segs)\n",
    "print('Total Unique Segments:',len(seg_freq))"
   ]
  },
  {
   "cell_type": "code",
   "execution_count": null,
   "metadata": {},
   "outputs": [],
   "source": [
    "seg_prob = {k: v/total_segs for k,v in seg_freq.items()}"
   ]
  },
  {
   "cell_type": "code",
   "execution_count": null,
   "metadata": {},
   "outputs": [],
   "source": [
    "with open(seg_prob_file,'w') as f:\n",
    "    json.dump(dict(sorted(seg_prob.items())), f, indent=4)"
   ]
  }
 ],
 "metadata": {
  "kernelspec": {
   "display_name": "Python 3",
   "language": "python",
   "name": "python3"
  },
  "language_info": {
   "codemirror_mode": {
    "name": "ipython",
    "version": 3
   },
   "file_extension": ".py",
   "mimetype": "text/x-python",
   "name": "python",
   "nbconvert_exporter": "python",
   "pygments_lexer": "ipython3",
   "version": "3.6.2"
  }
 },
 "nbformat": 4,
 "nbformat_minor": 2
}
